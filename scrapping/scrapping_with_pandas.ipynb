{
 "cells": [
  {
   "cell_type": "code",
   "execution_count": 1,
   "id": "a7c9adf1",
   "metadata": {},
   "outputs": [],
   "source": [
    "import pandas as pd"
   ]
  },
  {
   "cell_type": "code",
   "execution_count": 25,
   "id": "faa2d660",
   "metadata": {},
   "outputs": [],
   "source": [
    "futbol = pd.read_html('https://es.wikipedia.org/wiki/Copa_Mundial_de_F%C3%BAtbol_de_2022')"
   ]
  },
  {
   "cell_type": "code",
   "execution_count": 26,
   "id": "ddb5971b",
   "metadata": {},
   "outputs": [
    {
     "data": {
      "text/html": [
       "<div>\n",
       "<style scoped>\n",
       "    .dataframe tbody tr th:only-of-type {\n",
       "        vertical-align: middle;\n",
       "    }\n",
       "\n",
       "    .dataframe tbody tr th {\n",
       "        vertical-align: top;\n",
       "    }\n",
       "\n",
       "    .dataframe thead th {\n",
       "        text-align: right;\n",
       "    }\n",
       "</style>\n",
       "<table border=\"1\" class=\"dataframe\">\n",
       "  <thead>\n",
       "    <tr style=\"text-align: right;\">\n",
       "      <th></th>\n",
       "      <th>Selección</th>\n",
       "      <th>Pts</th>\n",
       "      <th>PJ</th>\n",
       "      <th>PG</th>\n",
       "      <th>PE</th>\n",
       "      <th>PP</th>\n",
       "      <th>GF</th>\n",
       "      <th>GC</th>\n",
       "      <th>Dif</th>\n",
       "    </tr>\n",
       "  </thead>\n",
       "  <tbody>\n",
       "    <tr>\n",
       "      <th>0</th>\n",
       "      <td>Países Bajos</td>\n",
       "      <td>7</td>\n",
       "      <td>3</td>\n",
       "      <td>2</td>\n",
       "      <td>1</td>\n",
       "      <td>0</td>\n",
       "      <td>5</td>\n",
       "      <td>1</td>\n",
       "      <td>4</td>\n",
       "    </tr>\n",
       "    <tr>\n",
       "      <th>1</th>\n",
       "      <td>Senegal</td>\n",
       "      <td>6</td>\n",
       "      <td>3</td>\n",
       "      <td>2</td>\n",
       "      <td>0</td>\n",
       "      <td>1</td>\n",
       "      <td>5</td>\n",
       "      <td>4</td>\n",
       "      <td>1</td>\n",
       "    </tr>\n",
       "    <tr>\n",
       "      <th>2</th>\n",
       "      <td>Ecuador</td>\n",
       "      <td>4</td>\n",
       "      <td>3</td>\n",
       "      <td>1</td>\n",
       "      <td>1</td>\n",
       "      <td>1</td>\n",
       "      <td>4</td>\n",
       "      <td>3</td>\n",
       "      <td>1</td>\n",
       "    </tr>\n",
       "    <tr>\n",
       "      <th>3</th>\n",
       "      <td>Catar</td>\n",
       "      <td>0</td>\n",
       "      <td>3</td>\n",
       "      <td>0</td>\n",
       "      <td>0</td>\n",
       "      <td>3</td>\n",
       "      <td>1</td>\n",
       "      <td>7</td>\n",
       "      <td>–6</td>\n",
       "    </tr>\n",
       "  </tbody>\n",
       "</table>\n",
       "</div>"
      ],
      "text/plain": [
       "      Selección  Pts  PJ  PG  PE  PP  GF  GC Dif\n",
       "0  Países Bajos    7   3   2   1   0   5   1   4\n",
       "1       Senegal    6   3   2   0   1   5   4   1\n",
       "2       Ecuador    4   3   1   1   1   4   3   1\n",
       "3         Catar    0   3   0   0   3   1   7  –6"
      ]
     },
     "execution_count": 26,
     "metadata": {},
     "output_type": "execute_result"
    }
   ],
   "source": [
    "futbol[8]"
   ]
  },
  {
   "cell_type": "code",
   "execution_count": 27,
   "id": "3211eda7",
   "metadata": {
    "scrolled": true
   },
   "outputs": [
    {
     "data": {
      "text/html": [
       "<div>\n",
       "<style scoped>\n",
       "    .dataframe tbody tr th:only-of-type {\n",
       "        vertical-align: middle;\n",
       "    }\n",
       "\n",
       "    .dataframe tbody tr th {\n",
       "        vertical-align: top;\n",
       "    }\n",
       "\n",
       "    .dataframe thead th {\n",
       "        text-align: right;\n",
       "    }\n",
       "</style>\n",
       "<table border=\"1\" class=\"dataframe\">\n",
       "  <thead>\n",
       "    <tr style=\"text-align: right;\">\n",
       "      <th></th>\n",
       "      <th>Selección</th>\n",
       "      <th>Pts</th>\n",
       "      <th>PJ</th>\n",
       "      <th>PG</th>\n",
       "      <th>PE</th>\n",
       "      <th>PP</th>\n",
       "      <th>GF</th>\n",
       "      <th>GC</th>\n",
       "      <th>Dif</th>\n",
       "    </tr>\n",
       "  </thead>\n",
       "  <tbody>\n",
       "    <tr>\n",
       "      <th>0</th>\n",
       "      <td>Inglaterra</td>\n",
       "      <td>7</td>\n",
       "      <td>3</td>\n",
       "      <td>2</td>\n",
       "      <td>1</td>\n",
       "      <td>0</td>\n",
       "      <td>9</td>\n",
       "      <td>2</td>\n",
       "      <td>7</td>\n",
       "    </tr>\n",
       "    <tr>\n",
       "      <th>1</th>\n",
       "      <td>Estados Unidos</td>\n",
       "      <td>5</td>\n",
       "      <td>3</td>\n",
       "      <td>1</td>\n",
       "      <td>2</td>\n",
       "      <td>0</td>\n",
       "      <td>2</td>\n",
       "      <td>1</td>\n",
       "      <td>1</td>\n",
       "    </tr>\n",
       "    <tr>\n",
       "      <th>2</th>\n",
       "      <td>Irán</td>\n",
       "      <td>3</td>\n",
       "      <td>3</td>\n",
       "      <td>1</td>\n",
       "      <td>0</td>\n",
       "      <td>2</td>\n",
       "      <td>4</td>\n",
       "      <td>7</td>\n",
       "      <td>–3</td>\n",
       "    </tr>\n",
       "    <tr>\n",
       "      <th>3</th>\n",
       "      <td>Gales</td>\n",
       "      <td>1</td>\n",
       "      <td>3</td>\n",
       "      <td>0</td>\n",
       "      <td>1</td>\n",
       "      <td>2</td>\n",
       "      <td>1</td>\n",
       "      <td>6</td>\n",
       "      <td>–5</td>\n",
       "    </tr>\n",
       "  </tbody>\n",
       "</table>\n",
       "</div>"
      ],
      "text/plain": [
       "        Selección  Pts  PJ  PG  PE  PP  GF  GC Dif\n",
       "0      Inglaterra    7   3   2   1   0   9   2   7\n",
       "1  Estados Unidos    5   3   1   2   0   2   1   1\n",
       "2            Irán    3   3   1   0   2   4   7  –3\n",
       "3           Gales    1   3   0   1   2   1   6  –5"
      ]
     },
     "execution_count": 27,
     "metadata": {},
     "output_type": "execute_result"
    }
   ],
   "source": [
    "futbol[15]"
   ]
  },
  {
   "cell_type": "code",
   "execution_count": 31,
   "id": "4096edea",
   "metadata": {},
   "outputs": [
    {
     "data": {
      "text/plain": [
       "Index(['Selección', 'Pts', 'PJ', 'PG', 'PE', 'PP', 'GF', 'GC', 'Dif'], dtype='object')"
      ]
     },
     "execution_count": 31,
     "metadata": {},
     "output_type": "execute_result"
    }
   ],
   "source": [
    "futbol[8].columns"
   ]
  },
  {
   "cell_type": "code",
   "execution_count": 23,
   "id": "209eb309",
   "metadata": {},
   "outputs": [],
   "source": [
    "#tablas de 7 en 7. grupo A al H = 8 grupos"
   ]
  },
  {
   "cell_type": "code",
   "execution_count": 50,
   "id": "de17a6a5",
   "metadata": {},
   "outputs": [],
   "source": [
    "grupo = 'ABCDEFGH'"
   ]
  },
  {
   "cell_type": "code",
   "execution_count": 53,
   "id": "b615f84e",
   "metadata": {},
   "outputs": [],
   "source": [
    "tabla_grupo = {}\n",
    "for letra, i in zip(grupo, range(8,64,7)):\n",
    "    tabla_grupo[f'Grupo {letra}'] = futbol[i]\n",
    "    "
   ]
  },
  {
   "cell_type": "code",
   "execution_count": 54,
   "id": "d76e589f",
   "metadata": {
    "scrolled": true
   },
   "outputs": [
    {
     "data": {
      "text/plain": [
       "{'Grupo A':       Selección  Pts  PJ  PG  PE  PP  GF  GC Dif\n",
       " 0  Países Bajos    7   3   2   1   0   5   1   4\n",
       " 1       Senegal    6   3   2   0   1   5   4   1\n",
       " 2       Ecuador    4   3   1   1   1   4   3   1\n",
       " 3         Catar    0   3   0   0   3   1   7  –6,\n",
       " 'Grupo B':         Selección  Pts  PJ  PG  PE  PP  GF  GC Dif\n",
       " 0      Inglaterra    7   3   2   1   0   9   2   7\n",
       " 1  Estados Unidos    5   3   1   2   0   2   1   1\n",
       " 2            Irán    3   3   1   0   2   4   7  –3\n",
       " 3           Gales    1   3   0   1   2   1   6  –5,\n",
       " 'Grupo C':         Selección  Pts  PJ  PG  PE  PP  GF  GC Dif\n",
       " 0       Argentina    6   3   2   0   1   5   2   3\n",
       " 1         Polonia    4   3   1   1   1   2   2   0\n",
       " 2          México    4   3   1   1   1   2   3  –1\n",
       " 3  Arabia Saudita    3   3   1   0   2   3   5  –2,\n",
       " 'Grupo D':    Selección  Pts  PJ  PG  PE  PP  GF  GC Dif\n",
       " 0    Francia    6   3   2   0   1   6   3   3\n",
       " 1  Australia    6   3   2   0   1   3   4  –1\n",
       " 2      Túnez    4   3   1   1   1   1   1   0\n",
       " 3  Dinamarca    1   3   0   1   2   1   3  –2,\n",
       " 'Grupo E':     Selección  Pts  PJ  PG  PE  PP  GF  GC Dif\n",
       " 0       Japón    6   3   2   0   1   4   3   1\n",
       " 1      España    4   3   1   1   1   9   3   6\n",
       " 2    Alemania    4   3   1   1   1   6   5   1\n",
       " 3  Costa Rica    3   3   1   0   2   3  11  –8,\n",
       " 'Grupo F':    Selección  Pts  PJ  PG  PE  PP  GF  GC Dif\n",
       " 0  Marruecos    7   3   2   1   0   4   1   3\n",
       " 1    Croacia    5   3   1   2   0   4   1   3\n",
       " 2    Bélgica    4   3   1   1   1   1   2  –1\n",
       " 3     Canadá    0   3   0   0   3   2   7  –5,\n",
       " 'Grupo G':   Selección  Pts  PJ  PG  PE  PP  GF  GC Dif\n",
       " 0    Brasil    6   3   2   0   1   3   1   2\n",
       " 1     Suiza    6   3   2   0   1   4   3   1\n",
       " 2   Camerún    4   3   1   1   1   4   4   0\n",
       " 3    Serbia    1   3   0   1   2   5   8  –3,\n",
       " 'Grupo H':        Selección  Pts  PJ  PG  PE  PP  GF  GC Dif\n",
       " 0       Portugal    6   3   2   0   1   6   4   2\n",
       " 1  Corea del Sur    4   3   1   1   1   4   4   0\n",
       " 2        Uruguay    4   3   1   1   1   2   2   0\n",
       " 3          Ghana    3   3   1   0   2   5   7  –2}"
      ]
     },
     "execution_count": 54,
     "metadata": {},
     "output_type": "execute_result"
    }
   ],
   "source": [
    "tabla_grupo"
   ]
  },
  {
   "cell_type": "code",
   "execution_count": 56,
   "id": "3ad32635",
   "metadata": {
    "scrolled": true
   },
   "outputs": [
    {
     "data": {
      "text/html": [
       "<div>\n",
       "<style scoped>\n",
       "    .dataframe tbody tr th:only-of-type {\n",
       "        vertical-align: middle;\n",
       "    }\n",
       "\n",
       "    .dataframe tbody tr th {\n",
       "        vertical-align: top;\n",
       "    }\n",
       "\n",
       "    .dataframe thead th {\n",
       "        text-align: right;\n",
       "    }\n",
       "</style>\n",
       "<table border=\"1\" class=\"dataframe\">\n",
       "  <thead>\n",
       "    <tr style=\"text-align: right;\">\n",
       "      <th></th>\n",
       "      <th>Selección</th>\n",
       "      <th>Pts</th>\n",
       "      <th>PJ</th>\n",
       "      <th>PG</th>\n",
       "      <th>PE</th>\n",
       "      <th>PP</th>\n",
       "      <th>GF</th>\n",
       "      <th>GC</th>\n",
       "      <th>Dif</th>\n",
       "    </tr>\n",
       "  </thead>\n",
       "  <tbody>\n",
       "    <tr>\n",
       "      <th>0</th>\n",
       "      <td>Inglaterra</td>\n",
       "      <td>7</td>\n",
       "      <td>3</td>\n",
       "      <td>2</td>\n",
       "      <td>1</td>\n",
       "      <td>0</td>\n",
       "      <td>9</td>\n",
       "      <td>2</td>\n",
       "      <td>7</td>\n",
       "    </tr>\n",
       "    <tr>\n",
       "      <th>1</th>\n",
       "      <td>Estados Unidos</td>\n",
       "      <td>5</td>\n",
       "      <td>3</td>\n",
       "      <td>1</td>\n",
       "      <td>2</td>\n",
       "      <td>0</td>\n",
       "      <td>2</td>\n",
       "      <td>1</td>\n",
       "      <td>1</td>\n",
       "    </tr>\n",
       "    <tr>\n",
       "      <th>2</th>\n",
       "      <td>Irán</td>\n",
       "      <td>3</td>\n",
       "      <td>3</td>\n",
       "      <td>1</td>\n",
       "      <td>0</td>\n",
       "      <td>2</td>\n",
       "      <td>4</td>\n",
       "      <td>7</td>\n",
       "      <td>–3</td>\n",
       "    </tr>\n",
       "    <tr>\n",
       "      <th>3</th>\n",
       "      <td>Gales</td>\n",
       "      <td>1</td>\n",
       "      <td>3</td>\n",
       "      <td>0</td>\n",
       "      <td>1</td>\n",
       "      <td>2</td>\n",
       "      <td>1</td>\n",
       "      <td>6</td>\n",
       "      <td>–5</td>\n",
       "    </tr>\n",
       "  </tbody>\n",
       "</table>\n",
       "</div>"
      ],
      "text/plain": [
       "        Selección  Pts  PJ  PG  PE  PP  GF  GC Dif\n",
       "0      Inglaterra    7   3   2   1   0   9   2   7\n",
       "1  Estados Unidos    5   3   1   2   0   2   1   1\n",
       "2            Irán    3   3   1   0   2   4   7  –3\n",
       "3           Gales    1   3   0   1   2   1   6  –5"
      ]
     },
     "execution_count": 56,
     "metadata": {},
     "output_type": "execute_result"
    }
   ],
   "source": [
    "tabla_grupo['Grupo B']"
   ]
  }
 ],
 "metadata": {
  "kernelspec": {
   "display_name": "Python 3 (ipykernel)",
   "language": "python",
   "name": "python3"
  },
  "language_info": {
   "codemirror_mode": {
    "name": "ipython",
    "version": 3
   },
   "file_extension": ".py",
   "mimetype": "text/x-python",
   "name": "python",
   "nbconvert_exporter": "python",
   "pygments_lexer": "ipython3",
   "version": "3.10.9"
  }
 },
 "nbformat": 4,
 "nbformat_minor": 5
}

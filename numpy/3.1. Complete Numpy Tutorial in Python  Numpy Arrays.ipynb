{
 "cells": [
  {
   "cell_type": "code",
   "execution_count": 2,
   "id": "7146976d",
   "metadata": {},
   "outputs": [],
   "source": [
    "import numpy as np"
   ]
  },
  {
   "cell_type": "markdown",
   "id": "b2012ee5",
   "metadata": {},
   "source": [
    " list vs numpy time take"
   ]
  },
  {
   "cell_type": "code",
   "execution_count": 10,
   "id": "2b4acd33",
   "metadata": {},
   "outputs": [],
   "source": [
    "list = [1,2,3,4,5]"
   ]
  },
  {
   "cell_type": "code",
   "execution_count": 11,
   "id": "1dc325ac",
   "metadata": {},
   "outputs": [
    {
     "data": {
      "text/plain": [
       "numpy.ndarray"
      ]
     },
     "execution_count": 11,
     "metadata": {},
     "output_type": "execute_result"
    }
   ],
   "source": [
    "np_array = np.array([1,2,3,4,5])\n",
    "type(np_array)"
   ]
  },
  {
   "cell_type": "code",
   "execution_count": 12,
   "id": "c7be3da0",
   "metadata": {},
   "outputs": [
    {
     "data": {
      "text/plain": [
       "(5,)"
      ]
     },
     "execution_count": 12,
     "metadata": {},
     "output_type": "execute_result"
    }
   ],
   "source": [
    "np_array.shape"
   ]
  },
  {
   "cell_type": "code",
   "execution_count": 16,
   "id": "556b0584",
   "metadata": {},
   "outputs": [
    {
     "data": {
      "text/plain": [
       "(2, 5)"
      ]
     },
     "execution_count": 16,
     "metadata": {},
     "output_type": "execute_result"
    }
   ],
   "source": [
    "b = np.array( [(1,2,3,4,5), (6,7,8,9,10)])\n",
    "b.shape"
   ]
  },
  {
   "cell_type": "code",
   "execution_count": 18,
   "id": "284128a3",
   "metadata": {},
   "outputs": [],
   "source": [
    "c = np.array( [(1,2,3,4,5), (6,7,8,9,10)], dtype=float)"
   ]
  },
  {
   "cell_type": "markdown",
   "id": "e1320eb8",
   "metadata": {},
   "source": [
    "initial placeholder  un np"
   ]
  },
  {
   "cell_type": "code",
   "execution_count": 19,
   "id": "73497f2a",
   "metadata": {},
   "outputs": [
    {
     "data": {
      "text/plain": [
       "array([[0., 0., 0., 0., 0.],\n",
       "       [0., 0., 0., 0., 0.],\n",
       "       [0., 0., 0., 0., 0.],\n",
       "       [0., 0., 0., 0., 0.]])"
      ]
     },
     "execution_count": 19,
     "metadata": {},
     "output_type": "execute_result"
    }
   ],
   "source": [
    "x=np.zeros((4,5))\n",
    "x"
   ]
  },
  {
   "cell_type": "code",
   "execution_count": 20,
   "id": "4abf52d6",
   "metadata": {},
   "outputs": [
    {
     "data": {
      "text/plain": [
       "array([[1., 1., 1., 1.],\n",
       "       [1., 1., 1., 1.],\n",
       "       [1., 1., 1., 1.],\n",
       "       [1., 1., 1., 1.],\n",
       "       [1., 1., 1., 1.]])"
      ]
     },
     "execution_count": 20,
     "metadata": {},
     "output_type": "execute_result"
    }
   ],
   "source": [
    "q = np.ones((5,4))\n",
    "q"
   ]
  },
  {
   "cell_type": "code",
   "execution_count": 22,
   "id": "d6cbacb4",
   "metadata": {},
   "outputs": [
    {
     "data": {
      "text/plain": [
       "array([[8, 8, 8, 8, 8, 8],\n",
       "       [8, 8, 8, 8, 8, 8]])"
      ]
     },
     "execution_count": 22,
     "metadata": {},
     "output_type": "execute_result"
    }
   ],
   "source": [
    "w= np.full((2,6), 8)\n",
    "w"
   ]
  },
  {
   "cell_type": "markdown",
   "id": "d10e2aaf",
   "metadata": {},
   "source": [
    "MATRIX"
   ]
  },
  {
   "cell_type": "code",
   "execution_count": 23,
   "id": "44e00a9f",
   "metadata": {},
   "outputs": [
    {
     "data": {
      "text/plain": [
       "array([[1., 0., 0., 0.],\n",
       "       [0., 1., 0., 0.],\n",
       "       [0., 0., 1., 0.],\n",
       "       [0., 0., 0., 1.]])"
      ]
     },
     "execution_count": 23,
     "metadata": {},
     "output_type": "execute_result"
    }
   ],
   "source": [
    "e= np.eye(4)\n",
    "e"
   ]
  },
  {
   "cell_type": "markdown",
   "id": "cf9eee1c",
   "metadata": {},
   "source": [
    "RANDOM"
   ]
  },
  {
   "cell_type": "code",
   "execution_count": 25,
   "id": "f35c3dd6",
   "metadata": {},
   "outputs": [
    {
     "data": {
      "text/plain": [
       "array([[0.91861861, 0.20934522, 0.26801826, 0.69604369],\n",
       "       [0.94060899, 0.71052228, 0.6837447 , 0.81708983],\n",
       "       [0.39151446, 0.74198225, 0.15033068, 0.86767992]])"
      ]
     },
     "execution_count": 25,
     "metadata": {},
     "output_type": "execute_result"
    }
   ],
   "source": [
    "r=np.random.random((3,4))\n",
    "r"
   ]
  },
  {
   "cell_type": "markdown",
   "id": "7c3eff60",
   "metadata": {},
   "source": [
    "RANDOM INTEGER"
   ]
  },
  {
   "cell_type": "code",
   "execution_count": 29,
   "id": "9995854d",
   "metadata": {},
   "outputs": [
    {
     "data": {
      "text/plain": [
       "array([[35, 35, 45],\n",
       "       [19, 39, 26]])"
      ]
     },
     "execution_count": 29,
     "metadata": {},
     "output_type": "execute_result"
    }
   ],
   "source": [
    "t= np.random.randint(1,80,(2,3))\n",
    "t"
   ]
  },
  {
   "cell_type": "code",
   "execution_count": 31,
   "id": "0211087e",
   "metadata": {},
   "outputs": [
    {
     "data": {
      "text/plain": [
       "array([10., 12., 14., 16., 18.])"
      ]
     },
     "execution_count": 31,
     "metadata": {},
     "output_type": "execute_result"
    }
   ],
   "source": [
    "u = np.linspace(10,18, 5)# 5 numros entre 10 y 18\n",
    "u"
   ]
  },
  {
   "cell_type": "code",
   "execution_count": 33,
   "id": "7aaf2577",
   "metadata": {
    "scrolled": true
   },
   "outputs": [
    {
     "data": {
      "text/plain": [
       "array([10, 15, 20, 25])"
      ]
     },
     "execution_count": 33,
     "metadata": {},
     "output_type": "execute_result"
    }
   ],
   "source": [
    "o= np.arange(10,30,5)\n",
    "o"
   ]
  },
  {
   "cell_type": "markdown",
   "id": "1214759f",
   "metadata": {},
   "source": [
    "convertir una lista a NUMPY"
   ]
  },
  {
   "cell_type": "code",
   "execution_count": 34,
   "id": "bcbc00b4",
   "metadata": {},
   "outputs": [
    {
     "data": {
      "text/plain": [
       "array([10, 20, 30, 40, 50])"
      ]
     },
     "execution_count": 34,
     "metadata": {},
     "output_type": "execute_result"
    }
   ],
   "source": [
    "lista=[10,20,30,40,50]\n",
    "npLista= np.asarray(lista)\n",
    "npLista"
   ]
  },
  {
   "cell_type": "code",
   "execution_count": 36,
   "id": "640a0659",
   "metadata": {},
   "outputs": [
    {
     "data": {
      "text/plain": [
       "array([[39, 22, 22, 33, 41],\n",
       "       [30, 15, 31, 19, 14],\n",
       "       [24, 12, 37, 41, 21],\n",
       "       [17, 37, 45, 41, 44]])"
      ]
     },
     "execution_count": 36,
     "metadata": {},
     "output_type": "execute_result"
    }
   ],
   "source": [
    "p= np.random.randint(10,50,(4,5))\n",
    "p"
   ]
  },
  {
   "cell_type": "code",
   "execution_count": 37,
   "id": "f71c3886",
   "metadata": {},
   "outputs": [
    {
     "data": {
      "text/plain": [
       "(4, 5)"
      ]
     },
     "execution_count": 37,
     "metadata": {},
     "output_type": "execute_result"
    }
   ],
   "source": [
    "p.shape"
   ]
  },
  {
   "cell_type": "code",
   "execution_count": 38,
   "id": "0db02031",
   "metadata": {},
   "outputs": [
    {
     "data": {
      "text/plain": [
       "2"
      ]
     },
     "execution_count": 38,
     "metadata": {},
     "output_type": "execute_result"
    }
   ],
   "source": [
    "p.ndim"
   ]
  },
  {
   "cell_type": "code",
   "execution_count": 39,
   "id": "2370d299",
   "metadata": {},
   "outputs": [
    {
     "data": {
      "text/plain": [
       "20"
      ]
     },
     "execution_count": 39,
     "metadata": {},
     "output_type": "execute_result"
    }
   ],
   "source": [
    "p.size"
   ]
  },
  {
   "cell_type": "code",
   "execution_count": 40,
   "id": "28b5a5b0",
   "metadata": {},
   "outputs": [
    {
     "data": {
      "text/plain": [
       "dtype('int32')"
      ]
     },
     "execution_count": 40,
     "metadata": {},
     "output_type": "execute_result"
    }
   ],
   "source": [
    "p.dtype"
   ]
  },
  {
   "cell_type": "markdown",
   "id": "292bb5a2",
   "metadata": {},
   "source": [
    "OPERACIONES MATEMATICA\n"
   ]
  },
  {
   "cell_type": "code",
   "execution_count": 42,
   "id": "7de156a9",
   "metadata": {},
   "outputs": [
    {
     "data": {
      "text/plain": [
       "[1, 2, 3, 4, 5, 6, 7, 8, 9, 10]"
      ]
     },
     "execution_count": 42,
     "metadata": {},
     "output_type": "execute_result"
    }
   ],
   "source": [
    "lista1=[1,2,3,4,5]\n",
    "lista2=[6,7,8,9,10]\n",
    "lista1+lista2"
   ]
  },
  {
   "cell_type": "code",
   "execution_count": 45,
   "id": "83242c30",
   "metadata": {},
   "outputs": [
    {
     "name": "stdout",
     "output_type": "stream",
     "text": [
      "[[8 4 6]\n",
      " [2 6 4]\n",
      " [3 4 8]]\n",
      "[[11 18 14]\n",
      " [12 14 13]\n",
      " [10 16 13]]\n"
     ]
    }
   ],
   "source": [
    "a = np.random.randint(0,9,(3,3))\n",
    "b= np.random.randint(10,19,(3,3))\n",
    "print(a)\n",
    "print(b)"
   ]
  },
  {
   "cell_type": "code",
   "execution_count": 46,
   "id": "faf89cd5",
   "metadata": {},
   "outputs": [
    {
     "data": {
      "text/plain": [
       "array([[19, 22, 20],\n",
       "       [14, 20, 17],\n",
       "       [13, 20, 21]])"
      ]
     },
     "execution_count": 46,
     "metadata": {},
     "output_type": "execute_result"
    }
   ],
   "source": [
    "a+b"
   ]
  },
  {
   "cell_type": "code",
   "execution_count": 47,
   "id": "f19c174b",
   "metadata": {},
   "outputs": [
    {
     "data": {
      "text/plain": [
       "array([[ -3, -14,  -8],\n",
       "       [-10,  -8,  -9],\n",
       "       [ -7, -12,  -5]])"
      ]
     },
     "execution_count": 47,
     "metadata": {},
     "output_type": "execute_result"
    }
   ],
   "source": [
    "a-b"
   ]
  },
  {
   "cell_type": "code",
   "execution_count": 48,
   "id": "6dcc0bd0",
   "metadata": {},
   "outputs": [
    {
     "data": {
      "text/plain": [
       "array([[ 88,  72,  84],\n",
       "       [ 24,  84,  52],\n",
       "       [ 30,  64, 104]])"
      ]
     },
     "execution_count": 48,
     "metadata": {},
     "output_type": "execute_result"
    }
   ],
   "source": [
    "a*b"
   ]
  },
  {
   "cell_type": "code",
   "execution_count": 49,
   "id": "0c5d451d",
   "metadata": {},
   "outputs": [
    {
     "data": {
      "text/plain": [
       "array([[1.375     , 4.5       , 2.33333333],\n",
       "       [6.        , 2.33333333, 3.25      ],\n",
       "       [3.33333333, 4.        , 1.625     ]])"
      ]
     },
     "execution_count": 49,
     "metadata": {},
     "output_type": "execute_result"
    }
   ],
   "source": [
    "b/a"
   ]
  },
  {
   "cell_type": "code",
   "execution_count": 51,
   "id": "c0dc12f3",
   "metadata": {},
   "outputs": [
    {
     "data": {
      "text/plain": [
       "array([[19, 22, 20],\n",
       "       [14, 20, 17],\n",
       "       [13, 20, 21]])"
      ]
     },
     "execution_count": 51,
     "metadata": {},
     "output_type": "execute_result"
    }
   ],
   "source": [
    "np.add(a,b)"
   ]
  },
  {
   "cell_type": "markdown",
   "id": "6aa93a24",
   "metadata": {},
   "source": [
    "se puede hacer los mismo de arriba con \n",
    "substract, multiply, divide"
   ]
  },
  {
   "cell_type": "code",
   "execution_count": 52,
   "id": "b2027b76",
   "metadata": {},
   "outputs": [
    {
     "data": {
      "text/plain": [
       "array([[8, 4, 6],\n",
       "       [2, 6, 4],\n",
       "       [3, 4, 8]])"
      ]
     },
     "execution_count": 52,
     "metadata": {},
     "output_type": "execute_result"
    }
   ],
   "source": [
    "a\n"
   ]
  },
  {
   "cell_type": "markdown",
   "id": "c30ce0d0",
   "metadata": {},
   "source": [
    "INVERTIR LAS TABLAS"
   ]
  },
  {
   "cell_type": "code",
   "execution_count": 53,
   "id": "ea8d0db3",
   "metadata": {},
   "outputs": [
    {
     "data": {
      "text/plain": [
       "array([[8, 2, 3],\n",
       "       [4, 6, 4],\n",
       "       [6, 4, 8]])"
      ]
     },
     "execution_count": 53,
     "metadata": {},
     "output_type": "execute_result"
    }
   ],
   "source": [
    "a.T"
   ]
  },
  {
   "cell_type": "markdown",
   "id": "22510c51",
   "metadata": {},
   "source": [
    "RESHAPE"
   ]
  },
  {
   "cell_type": "code",
   "execution_count": 55,
   "id": "223fa1bc",
   "metadata": {},
   "outputs": [
    {
     "data": {
      "text/plain": [
       "array([[8],\n",
       "       [4],\n",
       "       [6],\n",
       "       [2],\n",
       "       [6],\n",
       "       [4],\n",
       "       [3],\n",
       "       [4],\n",
       "       [8]])"
      ]
     },
     "execution_count": 55,
     "metadata": {},
     "output_type": "execute_result"
    }
   ],
   "source": [
    "d= a.reshape(9,1)\n",
    "d"
   ]
  },
  {
   "cell_type": "code",
   "execution_count": null,
   "id": "872e9441",
   "metadata": {},
   "outputs": [],
   "source": []
  }
 ],
 "metadata": {
  "kernelspec": {
   "display_name": "Python 3 (ipykernel)",
   "language": "python",
   "name": "python3"
  },
  "language_info": {
   "codemirror_mode": {
    "name": "ipython",
    "version": 3
   },
   "file_extension": ".py",
   "mimetype": "text/x-python",
   "name": "python",
   "nbconvert_exporter": "python",
   "pygments_lexer": "ipython3",
   "version": "3.10.9"
  }
 },
 "nbformat": 4,
 "nbformat_minor": 5
}

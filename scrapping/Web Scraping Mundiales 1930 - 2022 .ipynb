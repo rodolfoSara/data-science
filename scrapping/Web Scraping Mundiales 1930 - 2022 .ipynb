{
 "cells": [
  {
   "cell_type": "code",
   "execution_count": 1,
   "id": "3e244057",
   "metadata": {},
   "outputs": [],
   "source": [
    "from bs4 import BeautifulSoup\n",
    "import requests\n",
    "import pandas as pd"
   ]
  },
  {
   "cell_type": "code",
   "execution_count": 2,
   "id": "89d04e9a",
   "metadata": {},
   "outputs": [],
   "source": [
    "years=[1930, 1934, 1950, 1954, 1958, 1962, 1966, 1970, 1974, 1978, 1982, 1986, 1990, 1994, 1998, 2002, 2006, 2010, 2014, 2018, 2022]"
   ]
  },
  {
   "cell_type": "code",
   "execution_count": null,
   "id": "f03833ef",
   "metadata": {},
   "outputs": [],
   "source": []
  },
  {
   "cell_type": "code",
   "execution_count": 3,
   "id": "d1d25b28",
   "metadata": {},
   "outputs": [],
   "source": [
    "def get_matches(year):\n",
    "    web= f'https://en.wikipedia.org/wiki/{year}_FIFA_World_Cup'\n",
    "    response=requests.get(web)\n",
    "    content =response.text\n",
    "    soup = BeautifulSoup(content, 'lxml')\n",
    "    \n",
    "    matches = soup.find_all('div', class_='footballbox')\n",
    "    \n",
    "    home=[]\n",
    "    score=[]\n",
    "    away=[]\n",
    "    for match in matches:\n",
    "        home.append(match.find('th', class_='fhome').get_text())\n",
    "        score.append(match.find('th', class_='fscore').get_text())\n",
    "        away.append(match.find('th', class_='faway').get_text())\n",
    "        \n",
    "    dict_football={'home': home ,'score': score, 'away': away}\n",
    "        \n",
    "    df_football = pd.DataFrame(dict_football)\n",
    "        \n",
    "    df_football['year'] = year\n",
    "        \n",
    "    return df_football"
   ]
  },
  {
   "cell_type": "code",
   "execution_count": 4,
   "id": "862f0bb0",
   "metadata": {
    "scrolled": true
   },
   "outputs": [
    {
     "data": {
      "text/html": [
       "<div>\n",
       "<style scoped>\n",
       "    .dataframe tbody tr th:only-of-type {\n",
       "        vertical-align: middle;\n",
       "    }\n",
       "\n",
       "    .dataframe tbody tr th {\n",
       "        vertical-align: top;\n",
       "    }\n",
       "\n",
       "    .dataframe thead th {\n",
       "        text-align: right;\n",
       "    }\n",
       "</style>\n",
       "<table border=\"1\" class=\"dataframe\">\n",
       "  <thead>\n",
       "    <tr style=\"text-align: right;\">\n",
       "      <th></th>\n",
       "      <th>home</th>\n",
       "      <th>score</th>\n",
       "      <th>away</th>\n",
       "      <th>year</th>\n",
       "    </tr>\n",
       "  </thead>\n",
       "  <tbody>\n",
       "    <tr>\n",
       "      <th>0</th>\n",
       "      <td>Germany</td>\n",
       "      <td>4–2</td>\n",
       "      <td>Costa Rica</td>\n",
       "      <td>2006</td>\n",
       "    </tr>\n",
       "    <tr>\n",
       "      <th>1</th>\n",
       "      <td>Poland</td>\n",
       "      <td>0–2</td>\n",
       "      <td>Ecuador</td>\n",
       "      <td>2006</td>\n",
       "    </tr>\n",
       "    <tr>\n",
       "      <th>2</th>\n",
       "      <td>Germany</td>\n",
       "      <td>1–0</td>\n",
       "      <td>Poland</td>\n",
       "      <td>2006</td>\n",
       "    </tr>\n",
       "    <tr>\n",
       "      <th>3</th>\n",
       "      <td>Ecuador</td>\n",
       "      <td>3–0</td>\n",
       "      <td>Costa Rica</td>\n",
       "      <td>2006</td>\n",
       "    </tr>\n",
       "    <tr>\n",
       "      <th>4</th>\n",
       "      <td>Ecuador</td>\n",
       "      <td>0–3</td>\n",
       "      <td>Germany</td>\n",
       "      <td>2006</td>\n",
       "    </tr>\n",
       "    <tr>\n",
       "      <th>...</th>\n",
       "      <td>...</td>\n",
       "      <td>...</td>\n",
       "      <td>...</td>\n",
       "      <td>...</td>\n",
       "    </tr>\n",
       "    <tr>\n",
       "      <th>59</th>\n",
       "      <td>Brazil</td>\n",
       "      <td>0–1</td>\n",
       "      <td>France</td>\n",
       "      <td>2006</td>\n",
       "    </tr>\n",
       "    <tr>\n",
       "      <th>60</th>\n",
       "      <td>Germany</td>\n",
       "      <td>0–2 (a.e.t.)</td>\n",
       "      <td>Italy</td>\n",
       "      <td>2006</td>\n",
       "    </tr>\n",
       "    <tr>\n",
       "      <th>61</th>\n",
       "      <td>Portugal</td>\n",
       "      <td>0–1</td>\n",
       "      <td>France</td>\n",
       "      <td>2006</td>\n",
       "    </tr>\n",
       "    <tr>\n",
       "      <th>62</th>\n",
       "      <td>Germany</td>\n",
       "      <td>3–1</td>\n",
       "      <td>Portugal</td>\n",
       "      <td>2006</td>\n",
       "    </tr>\n",
       "    <tr>\n",
       "      <th>63</th>\n",
       "      <td>Italy</td>\n",
       "      <td>1–1 (a.e.t.)</td>\n",
       "      <td>France</td>\n",
       "      <td>2006</td>\n",
       "    </tr>\n",
       "  </tbody>\n",
       "</table>\n",
       "<p>64 rows × 4 columns</p>\n",
       "</div>"
      ],
      "text/plain": [
       "         home         score         away  year\n",
       "0    Germany            4–2   Costa Rica  2006\n",
       "1     Poland            0–2      Ecuador  2006\n",
       "2    Germany            1–0       Poland  2006\n",
       "3    Ecuador            3–0   Costa Rica  2006\n",
       "4    Ecuador            0–3      Germany  2006\n",
       "..        ...           ...          ...   ...\n",
       "59    Brazil            0–1       France  2006\n",
       "60   Germany   0–2 (a.e.t.)        Italy  2006\n",
       "61  Portugal            0–1       France  2006\n",
       "62   Germany            3–1     Portugal  2006\n",
       "63     Italy   1–1 (a.e.t.)       France  2006\n",
       "\n",
       "[64 rows x 4 columns]"
      ]
     },
     "execution_count": 4,
     "metadata": {},
     "output_type": "execute_result"
    }
   ],
   "source": [
    "get_matches(2006)\n"
   ]
  },
  {
   "cell_type": "code",
   "execution_count": 5,
   "id": "ffcd6eea",
   "metadata": {},
   "outputs": [],
   "source": [
    "'''for year in years:\n",
    "    get_matches(year)\n",
    "   en una linea este codigo queda asi:\n",
    "   ''' \n",
    "fifa = [get_matches(year) for year in years]\n",
    "df_fifa= pd.concat(fifa, ignore_index=True)\n",
    "df_fifa.to_csv('fifa-historical-data.csv', index=False)"
   ]
  },
  {
   "cell_type": "code",
   "execution_count": null,
   "id": "0407f2c3",
   "metadata": {},
   "outputs": [],
   "source": []
  },
  {
   "cell_type": "code",
   "execution_count": 6,
   "id": "b9cda0ce",
   "metadata": {},
   "outputs": [
    {
     "data": {
      "text/plain": [
       "\" \\n  web= 'https://en.wikipedia.org/wiki/2014_FIFA_World_Cup'\\n  response=requests.get(web)\\n  content =response.text\\n  soup = BeautifulSoup(content, 'lxml')\\n  \\n  matches = soup.find_all('div', class_='footballbox')\\n  \\n  home=[]\\n  score=[]\\n  away=[]\\n  for match in matches:\\n      home.append(match.find('th', class_='fhome').get_text())\\n      score.append(match.find('th', class_='fscore').get_text())\\n      away.append(match.find('th', class_='faway').get_text())\\n      \\n      dict_football={'home': home ,'score': score, 'away': away}\\n      \\n      df_football = pd.DataFrame(dict_football)\\ndf_football['year'] = '2014'\\n\\nprint(df_football)\\n\""
      ]
     },
     "execution_count": 6,
     "metadata": {},
     "output_type": "execute_result"
    }
   ],
   "source": [
    "  ''' \n",
    "    web= 'https://en.wikipedia.org/wiki/2014_FIFA_World_Cup'\n",
    "    response=requests.get(web)\n",
    "    content =response.text\n",
    "    soup = BeautifulSoup(content, 'lxml')\n",
    "    \n",
    "    matches = soup.find_all('div', class_='footballbox')\n",
    "    \n",
    "    home=[]\n",
    "    score=[]\n",
    "    away=[]\n",
    "    for match in matches:\n",
    "        home.append(match.find('th', class_='fhome').get_text())\n",
    "        score.append(match.find('th', class_='fscore').get_text())\n",
    "        away.append(match.find('th', class_='faway').get_text())\n",
    "        \n",
    "        dict_football={'home': home ,'score': score, 'away': away}\n",
    "        \n",
    "        df_football = pd.DataFrame(dict_football)\n",
    "df_football['year'] = '2014'\n",
    "\n",
    "print(df_football)\n",
    "'''"
   ]
  }
 ],
 "metadata": {
  "kernelspec": {
   "display_name": "Python 3 (ipykernel)",
   "language": "python",
   "name": "python3"
  },
  "language_info": {
   "codemirror_mode": {
    "name": "ipython",
    "version": 3
   },
   "file_extension": ".py",
   "mimetype": "text/x-python",
   "name": "python",
   "nbconvert_exporter": "python",
   "pygments_lexer": "ipython3",
   "version": "3.10.9"
  }
 },
 "nbformat": 4,
 "nbformat_minor": 5
}
